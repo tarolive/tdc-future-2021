{
  "nbformat": 4,
  "nbformat_minor": 0,
  "metadata": {
    "colab": {
      "name": "pipeline_example.ipynb",
      "provenance": [],
      "collapsed_sections": []
    },
    "kernelspec": {
      "name": "python3",
      "display_name": "Python 3"
    },
    "language_info": {
      "name": "python"
    }
  },
  "cells": [
    {
      "cell_type": "code",
      "metadata": {
        "id": "Geruj4P3RrkI"
      },
      "source": [
        "!pip install kfp_tekton"
      ],
      "execution_count": null,
      "outputs": []
    },
    {
      "cell_type": "code",
      "metadata": {
        "id": "f1x4YBNPSQNf"
      },
      "source": [
        "import kfp\n",
        "import kfp_tekton"
      ],
      "execution_count": null,
      "outputs": []
    },
    {
      "cell_type": "code",
      "metadata": {
        "id": "6M3NQ2MJIMc7"
      },
      "source": [
        "def gather_and_prepare_data() -> str:\n",
        "\n",
        "  import pandas\n",
        "\n",
        "  print('Downloading dataset...')\n",
        "\n",
        "  dataset = pandas.read_csv('https://storage.googleapis.com/download.tensorflow.org/data/abalone_train.csv')\n",
        "  dataset.head()\n",
        "\n",
        "  print('Saving to workspace...')\n",
        "\n",
        "  # TODO\n",
        "\n",
        "  print('Done!')\n",
        "\n",
        "  return 'success'\n",
        "\n",
        "gather_and_prepare_data_op = kfp.components.create_component_from_func(\n",
        "  func = gather_and_prepare_data,\n",
        "  base_image = 'python:3.9',\n",
        "  packages_to_install = ['pandas']\n",
        ")"
      ],
      "execution_count": null,
      "outputs": []
    },
    {
      "cell_type": "code",
      "metadata": {
        "id": "2w0vITZrIMjv"
      },
      "source": [
        "def develop_model(data_status: str) -> str:\n",
        "\n",
        "  print('Checking dataset...')\n",
        "\n",
        "  if data_status != 'success':\n",
        "    raise Exception('DataError')\n",
        "\n",
        "  import tensorflow\n",
        "  print('Tensorflow version: %s' % tensorflow.__version__)\n",
        "\n",
        "  print('Creating model...')\n",
        "\n",
        "  model = tensorflow.keras.models.Sequential([\n",
        "    tensorflow.keras.layers.Dense(64, activation = 'relu'),\n",
        "    tensorflow.keras.layers.Dense(1, activation = 'sigmoid')\n",
        "  ])\n",
        "\n",
        "  print('Training model...')\n",
        "\n",
        "  # TODO\n",
        "\n",
        "  print('Done!')\n",
        "\n",
        "  return 'success'\n",
        "\n",
        "develop_model_op = kfp.components.create_component_from_func(\n",
        "  func = develop_model,\n",
        "  base_image = 'tensorflow/tensorflow:2.2.3-py3'\n",
        ")"
      ],
      "execution_count": null,
      "outputs": []
    },
    {
      "cell_type": "code",
      "metadata": {
        "id": "C3WQskUMNXOa"
      },
      "source": [
        "@kfp.components.create_component_from_func\n",
        "def deploy_model(model_status: str, environment: str) -> str:\n",
        "\n",
        "  print('Checking model...')\n",
        "\n",
        "  if model_status != 'success':\n",
        "    raise Exception('ModelError')\n",
        "\n",
        "  print('Deploying model to %s environment...' % environment)\n",
        "\n",
        "  # TODO\n",
        "\n",
        "  print('Done!')\n",
        "\n",
        "  return 'success'"
      ],
      "execution_count": null,
      "outputs": []
    },
    {
      "cell_type": "code",
      "metadata": {
        "id": "wo249vUYToYR"
      },
      "source": [
        "from typing import NamedTuple\n",
        "\n",
        "@kfp.components.create_component_from_func\n",
        "def test_model(\n",
        "  model_deployment_status: str,\n",
        "  environment: str\n",
        ") -> NamedTuple('VisualizationOutput', [('mlpipeline_ui_metadata', 'UI_metadata')]):\n",
        "\n",
        "  print('Checking model deployment...')\n",
        "\n",
        "  if model_deployment_status != 'success':\n",
        "    raise Exception('ModelDeploymentError')\n",
        "\n",
        "  print('Testing model...')\n",
        "\n",
        "  import json\n",
        "  from collections import namedtuple\n",
        "\n",
        "  metadata = {\n",
        "    'outputs': [{\n",
        "      'type': 'roc',\n",
        "      'format': 'csv',\n",
        "      'schema': [\n",
        "        { 'name': 'fpr', 'type': 'NUMBER' },\n",
        "        { 'name': 'tpr', 'type': 'NUMBER' },\n",
        "        { 'name': 'thresholds', 'type': 'NUMBER'}\n",
        "      ],\n",
        "      'source': 'https://raw.githubusercontent.com/kubeflow/pipelines/master/samples/core/visualization/roc.csv'\n",
        "    }]\n",
        "  }\n",
        "\n",
        "  visualization_output = namedtuple('VisualizationOutput', ['mlpipeline_ui_metadata'])\n",
        "  output = visualization_output(json.dumps(metadata))\n",
        "\n",
        "  print('Done!')\n",
        "\n",
        "  return output"
      ],
      "execution_count": null,
      "outputs": []
    },
    {
      "cell_type": "code",
      "metadata": {
        "id": "WOyzviBAWCX4"
      },
      "source": [
        "@kfp.dsl.pipeline(\n",
        "  name = 'TDC Pipeline',\n",
        "  description = 'A very nice Pipeline for TDC'\n",
        ")\n",
        "def tdc_pipeline(environment: str):\n",
        "\n",
        "  gather_and_prepare_data_task = gather_and_prepare_data_op()\n",
        "  develop_model_task = develop_model_op(gather_and_prepare_data_task.output)\n",
        "  deploy_model_task = deploy_model(develop_model_task.output, environment)\n",
        "  test_model_task = test_model(deploy_model_task.output, environment)"
      ],
      "execution_count": null,
      "outputs": []
    },
    {
      "cell_type": "code",
      "metadata": {
        "id": "-Kgg5ubaSoTb"
      },
      "source": [
        "pipeline_config = {\n",
        "  'kubeflow_url': '<KubeFlow URL>/pipeline',\n",
        "  'kubeflow_namespace': None\n",
        "}\n",
        "\n",
        "pipeline_arguments = {\n",
        "  'environment': 'development'\n",
        "}"
      ],
      "execution_count": null,
      "outputs": []
    },
    {
      "cell_type": "code",
      "metadata": {
        "id": "lglgOI0zTDhb"
      },
      "source": [
        "client = kfp_tekton.TektonClient(host = pipeline_config['kubeflow_url'])\n",
        "\n",
        "client.create_run_from_pipeline_func(\n",
        "  tdc_pipeline,\n",
        "  namespace = pipeline_config['kubeflow_namespace'],\n",
        "  arguments = pipeline_arguments\n",
        ")"
      ],
      "execution_count": null,
      "outputs": []
    }
  ]
}